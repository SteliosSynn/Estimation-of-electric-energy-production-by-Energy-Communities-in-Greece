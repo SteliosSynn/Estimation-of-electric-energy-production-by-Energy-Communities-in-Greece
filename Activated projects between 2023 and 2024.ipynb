{
 "cells": [
  {
   "cell_type": "markdown",
   "metadata": {},
   "source": [
    "Για την επεξεργασία των αιτήσεων που έχουν ενεργοποιηθεί κατά τη περίοδο 2023-2024"
   ]
  },
  {
   "cell_type": "code",
   "execution_count": 3,
   "metadata": {},
   "outputs": [
    {
     "ename": "FileNotFoundError",
     "evalue": "[Errno 2] No such file or directory: 'Between 2023 and 2024.xlsx'",
     "output_type": "error",
     "traceback": [
      "\u001b[31m---------------------------------------------------------------------------\u001b[39m",
      "\u001b[31mFileNotFoundError\u001b[39m                         Traceback (most recent call last)",
      "\u001b[36mCell\u001b[39m\u001b[36m \u001b[39m\u001b[32mIn[3]\u001b[39m\u001b[32m, line 7\u001b[39m\n\u001b[32m      4\u001b[39m \u001b[38;5;28;01mimport\u001b[39;00m\u001b[38;5;250m \u001b[39m\u001b[34;01mnumpy\u001b[39;00m\u001b[38;5;250m \u001b[39m\u001b[38;5;28;01mas\u001b[39;00m\u001b[38;5;250m \u001b[39m\u001b[34;01mnp\u001b[39;00m\n\u001b[32m      6\u001b[39m \u001b[38;5;66;03m#Δημιουργία μεταβλητής για το excel που περιέχει τις ενεργοποιημένες αιτήσεις για τα έργα των ενεργειακών κοινοτήτων μαζί με την εγκατεστημένη ισχύς τους\u001b[39;00m\n\u001b[32m----> \u001b[39m\u001b[32m7\u001b[39m df=\u001b[43mpd\u001b[49m\u001b[43m.\u001b[49m\u001b[43mread_excel\u001b[49m\u001b[43m(\u001b[49m\u001b[33;43m'\u001b[39;49m\u001b[33;43mBetween 2023 and 2024.xlsx\u001b[39;49m\u001b[33;43m'\u001b[39;49m\u001b[43m)\u001b[49m\n\u001b[32m      9\u001b[39m \u001b[38;5;66;03m#Δημιουργία μεταβλητής για το excel όπου έχουν γίνει οι υπολογισμοί των μηνιαίων συντελεστών χωρητικότητας για τα αιολικά πάρκα και τα ΦΒ πάρκα της Ηπειροτικής χώρας ξεχωριστά\u001b[39;00m\n\u001b[32m     10\u001b[39m capacity_factors=pd.read_excel(\u001b[33m'\u001b[39m\u001b[33mCapacity Factors.xlsx\u001b[39m\u001b[33m'\u001b[39m,sheet_name=\u001b[33m'\u001b[39m\u001b[33mCapacity Factors\u001b[39m\u001b[33m'\u001b[39m)\n",
      "\u001b[36mFile \u001b[39m\u001b[32m~\\AppData\\Roaming\\Python\\Python312\\site-packages\\pandas\\io\\excel\\_base.py:495\u001b[39m, in \u001b[36mread_excel\u001b[39m\u001b[34m(io, sheet_name, header, names, index_col, usecols, dtype, engine, converters, true_values, false_values, skiprows, nrows, na_values, keep_default_na, na_filter, verbose, parse_dates, date_parser, date_format, thousands, decimal, comment, skipfooter, storage_options, dtype_backend, engine_kwargs)\u001b[39m\n\u001b[32m    493\u001b[39m \u001b[38;5;28;01mif\u001b[39;00m \u001b[38;5;129;01mnot\u001b[39;00m \u001b[38;5;28misinstance\u001b[39m(io, ExcelFile):\n\u001b[32m    494\u001b[39m     should_close = \u001b[38;5;28;01mTrue\u001b[39;00m\n\u001b[32m--> \u001b[39m\u001b[32m495\u001b[39m     io = \u001b[43mExcelFile\u001b[49m\u001b[43m(\u001b[49m\n\u001b[32m    496\u001b[39m \u001b[43m        \u001b[49m\u001b[43mio\u001b[49m\u001b[43m,\u001b[49m\n\u001b[32m    497\u001b[39m \u001b[43m        \u001b[49m\u001b[43mstorage_options\u001b[49m\u001b[43m=\u001b[49m\u001b[43mstorage_options\u001b[49m\u001b[43m,\u001b[49m\n\u001b[32m    498\u001b[39m \u001b[43m        \u001b[49m\u001b[43mengine\u001b[49m\u001b[43m=\u001b[49m\u001b[43mengine\u001b[49m\u001b[43m,\u001b[49m\n\u001b[32m    499\u001b[39m \u001b[43m        \u001b[49m\u001b[43mengine_kwargs\u001b[49m\u001b[43m=\u001b[49m\u001b[43mengine_kwargs\u001b[49m\u001b[43m,\u001b[49m\n\u001b[32m    500\u001b[39m \u001b[43m    \u001b[49m\u001b[43m)\u001b[49m\n\u001b[32m    501\u001b[39m \u001b[38;5;28;01melif\u001b[39;00m engine \u001b[38;5;129;01mand\u001b[39;00m engine != io.engine:\n\u001b[32m    502\u001b[39m     \u001b[38;5;28;01mraise\u001b[39;00m \u001b[38;5;167;01mValueError\u001b[39;00m(\n\u001b[32m    503\u001b[39m         \u001b[33m\"\u001b[39m\u001b[33mEngine should not be specified when passing \u001b[39m\u001b[33m\"\u001b[39m\n\u001b[32m    504\u001b[39m         \u001b[33m\"\u001b[39m\u001b[33man ExcelFile - ExcelFile already has the engine set\u001b[39m\u001b[33m\"\u001b[39m\n\u001b[32m    505\u001b[39m     )\n",
      "\u001b[36mFile \u001b[39m\u001b[32m~\\AppData\\Roaming\\Python\\Python312\\site-packages\\pandas\\io\\excel\\_base.py:1550\u001b[39m, in \u001b[36mExcelFile.__init__\u001b[39m\u001b[34m(self, path_or_buffer, engine, storage_options, engine_kwargs)\u001b[39m\n\u001b[32m   1548\u001b[39m     ext = \u001b[33m\"\u001b[39m\u001b[33mxls\u001b[39m\u001b[33m\"\u001b[39m\n\u001b[32m   1549\u001b[39m \u001b[38;5;28;01melse\u001b[39;00m:\n\u001b[32m-> \u001b[39m\u001b[32m1550\u001b[39m     ext = \u001b[43minspect_excel_format\u001b[49m\u001b[43m(\u001b[49m\n\u001b[32m   1551\u001b[39m \u001b[43m        \u001b[49m\u001b[43mcontent_or_path\u001b[49m\u001b[43m=\u001b[49m\u001b[43mpath_or_buffer\u001b[49m\u001b[43m,\u001b[49m\u001b[43m \u001b[49m\u001b[43mstorage_options\u001b[49m\u001b[43m=\u001b[49m\u001b[43mstorage_options\u001b[49m\n\u001b[32m   1552\u001b[39m \u001b[43m    \u001b[49m\u001b[43m)\u001b[49m\n\u001b[32m   1553\u001b[39m     \u001b[38;5;28;01mif\u001b[39;00m ext \u001b[38;5;129;01mis\u001b[39;00m \u001b[38;5;28;01mNone\u001b[39;00m:\n\u001b[32m   1554\u001b[39m         \u001b[38;5;28;01mraise\u001b[39;00m \u001b[38;5;167;01mValueError\u001b[39;00m(\n\u001b[32m   1555\u001b[39m             \u001b[33m\"\u001b[39m\u001b[33mExcel file format cannot be determined, you must specify \u001b[39m\u001b[33m\"\u001b[39m\n\u001b[32m   1556\u001b[39m             \u001b[33m\"\u001b[39m\u001b[33man engine manually.\u001b[39m\u001b[33m\"\u001b[39m\n\u001b[32m   1557\u001b[39m         )\n",
      "\u001b[36mFile \u001b[39m\u001b[32m~\\AppData\\Roaming\\Python\\Python312\\site-packages\\pandas\\io\\excel\\_base.py:1402\u001b[39m, in \u001b[36minspect_excel_format\u001b[39m\u001b[34m(content_or_path, storage_options)\u001b[39m\n\u001b[32m   1399\u001b[39m \u001b[38;5;28;01mif\u001b[39;00m \u001b[38;5;28misinstance\u001b[39m(content_or_path, \u001b[38;5;28mbytes\u001b[39m):\n\u001b[32m   1400\u001b[39m     content_or_path = BytesIO(content_or_path)\n\u001b[32m-> \u001b[39m\u001b[32m1402\u001b[39m \u001b[38;5;28;01mwith\u001b[39;00m \u001b[43mget_handle\u001b[49m\u001b[43m(\u001b[49m\n\u001b[32m   1403\u001b[39m \u001b[43m    \u001b[49m\u001b[43mcontent_or_path\u001b[49m\u001b[43m,\u001b[49m\u001b[43m \u001b[49m\u001b[33;43m\"\u001b[39;49m\u001b[33;43mrb\u001b[39;49m\u001b[33;43m\"\u001b[39;49m\u001b[43m,\u001b[49m\u001b[43m \u001b[49m\u001b[43mstorage_options\u001b[49m\u001b[43m=\u001b[49m\u001b[43mstorage_options\u001b[49m\u001b[43m,\u001b[49m\u001b[43m \u001b[49m\u001b[43mis_text\u001b[49m\u001b[43m=\u001b[49m\u001b[38;5;28;43;01mFalse\u001b[39;49;00m\n\u001b[32m   1404\u001b[39m \u001b[43m\u001b[49m\u001b[43m)\u001b[49m \u001b[38;5;28;01mas\u001b[39;00m handle:\n\u001b[32m   1405\u001b[39m     stream = handle.handle\n\u001b[32m   1406\u001b[39m     stream.seek(\u001b[32m0\u001b[39m)\n",
      "\u001b[36mFile \u001b[39m\u001b[32m~\\AppData\\Roaming\\Python\\Python312\\site-packages\\pandas\\io\\common.py:882\u001b[39m, in \u001b[36mget_handle\u001b[39m\u001b[34m(path_or_buf, mode, encoding, compression, memory_map, is_text, errors, storage_options)\u001b[39m\n\u001b[32m    873\u001b[39m         handle = \u001b[38;5;28mopen\u001b[39m(\n\u001b[32m    874\u001b[39m             handle,\n\u001b[32m    875\u001b[39m             ioargs.mode,\n\u001b[32m   (...)\u001b[39m\u001b[32m    878\u001b[39m             newline=\u001b[33m\"\u001b[39m\u001b[33m\"\u001b[39m,\n\u001b[32m    879\u001b[39m         )\n\u001b[32m    880\u001b[39m     \u001b[38;5;28;01melse\u001b[39;00m:\n\u001b[32m    881\u001b[39m         \u001b[38;5;66;03m# Binary mode\u001b[39;00m\n\u001b[32m--> \u001b[39m\u001b[32m882\u001b[39m         handle = \u001b[38;5;28;43mopen\u001b[39;49m\u001b[43m(\u001b[49m\u001b[43mhandle\u001b[49m\u001b[43m,\u001b[49m\u001b[43m \u001b[49m\u001b[43mioargs\u001b[49m\u001b[43m.\u001b[49m\u001b[43mmode\u001b[49m\u001b[43m)\u001b[49m\n\u001b[32m    883\u001b[39m     handles.append(handle)\n\u001b[32m    885\u001b[39m \u001b[38;5;66;03m# Convert BytesIO or file objects passed with an encoding\u001b[39;00m\n",
      "\u001b[31mFileNotFoundError\u001b[39m: [Errno 2] No such file or directory: 'Between 2023 and 2024.xlsx'"
     ]
    }
   ],
   "source": [
    "import pandas as pd\n",
    "import seaborn as sns\n",
    "import matplotlib.pyplot as plt\n",
    "import numpy as np\n",
    "\n",
    "#Δημιουργία μεταβλητής για το excel που περιέχει τις ενεργοποιημένες αιτήσεις για τα έργα των ενεργειακών κοινοτήτων μαζί με την εγκατεστημένη ισχύς τους\n",
    "df=pd.read_excel('Between 2023 and 2024.xlsx')\n",
    "\n",
    "#Δημιουργία μεταβλητής για το excel όπου έχουν γίνει οι υπολογισμοί των μηνιαίων συντελεστών χωρητικότητας για τα αιολικά πάρκα και τα ΦΒ πάρκα της Ηπειροτικής χώρας ξεχωριστά\n",
    "capacity_factors=pd.read_excel('Capacity Factors.xlsx',sheet_name='Capacity Factors')"
   ]
  },
  {
   "cell_type": "markdown",
   "metadata": {},
   "source": [
    "Η πλειοψηφία των έργων των ενεργειακών κοινοτήτων αποτελείται από ΦΒ πάρκα. Στο σύνολο των έργων τους υπάρχουν μόνο 2 αιολικά πάρκα (ΑΠ) και 1 σταθμός βιοαερίου. Η παραγωγή ηλεκτρικής ενέργειας του σταθμού βιοαερίου δεν λαμβάνεται υπόψη στους υπολογισμούς αυτής της αναφοράς (ούτως ή άλλως, συγκριτικά με την ενέργεια των ΦΒ είναι αμελητέα).\n",
    "\n",
    "Το excel με τις ενεργοποιημένες αιτήσεις των ενεργειακών κοινοτήτων περιέχει και τα 2 ΑΠ, οπότε χρειάζονται διαφορετική μεταχείριση από τα ΦΒ στους υπολογισμούς, εφόσον σε αυτά εφαρμόζεται διαφορετικός συντελεστής χωρητικότητας. Το παρακάτω κελί κάνει ακριβώς αυτό."
   ]
  },
  {
   "cell_type": "code",
   "execution_count": null,
   "metadata": {},
   "outputs": [],
   "source": [
    "#Αφού έχουν εντοπιστεί οι δείκτες που αντιστοιχούν στα ΑΠ του dataset, δημιουργείται μία λίστα με αυτά\n",
    "Wind_Parks=[df.iloc[308]['Installed_Capacity_kW'],df.iloc[341]['Installed_Capacity_kW']]\n",
    "\n",
    "#και στη συνέχεια αφαιρούνται από το αρχικό σετ δεδομένων\n",
    "df=df.drop(index=[df[df['index']==5454].index[0],df[df['index']==5456].index[0]])"
   ]
  },
  {
   "cell_type": "markdown",
   "metadata": {},
   "source": [
    "Κατόπιν, δημιουργείται ένα λεξικό με τους αριθμούς μηνών, τις ημέρες του κάθε μήνα και τον μηνιαίο συντελεστή χωρητικότητας για τα ΦΒ πάρκα ως ζεύγη τιμών και ως κλειδιά οι μήνες του έτους. <br> Η διαδικασία υπολογισμού της ενέργειας από τα έργα ΑΠΕ των Εν.Κοιν. που δημιουργήθηκαν κατά το 2023 έχει ως εξής: εντοπίζεται ο μήνας όπου πραγματοποιήθηκε η ενεργοποίηση του έργου, από την ημέρα ενεργοποίησης μέχρι και το τέλος του συγκεκριμένου μήνα εφαρμόζεται ο συντελεστής χωρητικότητας εκείνου του μήνα για την εκτίμηση της παραγόμενης ενέργειας και για τους υπόλοιπους μήνες εφαρμόζονται οι αντίστοιχοι συντελεστές για όλες τις ημέρες του τρέχοντα μήνα κανονικά."
   ]
  },
  {
   "cell_type": "code",
   "execution_count": null,
   "metadata": {},
   "outputs": [],
   "source": [
    "Months_days={'Jan':(1,31,0.105015),'Feb':(2,28,0.155147),'Mar':(3,31,0.169869),'Apr':(4,30,0.188789),'May':(5,31,0.165171),'Jun':(6,30,0.211803),\n",
    "        'Jul':(7,31,0.239102),'Aug':(8,31,0.214884),'Sep':(9,30,0.163963),'Oct':(10,31,0.154070),'Nov':(11,30,0.106530),'Dec':(12,31,0.100507)}\n",
    "\n",
    "#Αυτό το βήμα δεν είναι απαραίτητο μιας και έχουν υπολογιστεί ήδη οι συντελεστές των ΑΠ από το αρχικό excel, αλλά γίνεται για λόγους πληρότητας και εδώ\n",
    "CF_Wind={}\n",
    "Energy=[931,958,983,717,850,518,692,1103,1075,778,1156,1030] #GWh Παραγόμενη ενέργεια ανά μήνα\n",
    "Power=[4465,4465,4504,4522,4519,4692,4705,4723,4743,4828,4895,4948] #MW Εγκατεστημένη ισχύς ανά μήνα (εδώ φαίνεται και ο ρυθμός αύξησης ΑΠ στην Ελλάδα κατά το έτος 2023)\n",
    "h=[] #κενή λίστα όπου θα χρησιμοποιηθεί για τον υπολογισμό του κλάσματος: ενέργεια/εγκατεστημένη ισχύς\n",
    "\n",
    "\n",
    "for i in range(len(Energy)):\n",
    "    h.append(Energy[i]*10**3/Power[i])\n",
    "\n",
    "#υπολογισμός των μηνιαίων συντελεστών χωρητικότητας για τα ΑΠ\n",
    "for i,g in zip(Months_days,h):\n",
    "    CF_Wind[i]=g/(Months_days[i][1]*24)\n",
    "\n",
    "Energy_Produced=CF_Wind['Nov']*24*30*3000+CF_Wind['Dec']*24*3000*31+CF_Wind['Nov']*24*3000*29+CF_Wind['Dec']*24*3000*31 #kW Υπολογισμός της παραγόμενης ενέργειας από τα 2 ΑΠ\n",
    "#που ανήκουν σε Εν.Κοιν. \n",
    "\n",
    "#Τύπωση της παραγόμενης ενέργειας των ΑΠ από ενεργειακές κοινότητες\n",
    "print('The energy produced by the 2 wind parks is {} TWh'.format(Energy_Produced*10**-9))"
   ]
  },
  {
   "cell_type": "markdown",
   "metadata": {},
   "source": [
    "Η διαδικασία υπολογισμού για τα ΦΒ πάρκα που ενεργοποιήθηκαν μεταξύ του 2023 και του 2024 είναι παρόμοια, όμως έγινε με διαφορετικό τρόπο στην python αφού τα δεδομένα για αυτά τα έργα ήταν πολλά περισσότερα."
   ]
  },
  {
   "cell_type": "code",
   "execution_count": null,
   "metadata": {},
   "outputs": [],
   "source": [
    "#Συνάρτηση που αθροίζει τα γινόμενα συντελεστή χωρητικότητας επί τις ημέρες του μήνα για τον οποίο έχει υπολογιστεί ο αντίστοιχος συντελεστής, για όλους τους μήνες του έτους.\n",
    "#Η συνάρτηση παίρνει ως argument τον μήνα όπου αυτή η διαδικασία παρακάμπτεται (δηλαδή ο μήνας όπου ενεργοποιήθηκε το εκάστοτε έργο). Αφού ο όρος που αφορά την παραγωγή ενέργειας\n",
    "#από την ημέρα ενεργοποίσης του έργου μέχρι το τέλος του μήνα ενεργοποίησης θα υπολογιστεί πολλαπλασιάζοντας τη διαφορά \n",
    "#των ημερών του μήνα ενεργοποίησης από την ημέρα ενεργοποίησης με το συντελεστή του μήνα ενεργοποίησης. \n",
    "\n",
    "def equation(month_skip):\n",
    "    l=0\n",
    "    for i in Months_days:\n",
    "        if month_skip<=Months_days[i][0]:\n",
    "            l+=0\n",
    "        else:\n",
    "            l+=Months_days[i][1]*Months_days[i][2]\n",
    "    return l\n",
    "\n",
    "#Δημιουργείται κενή λίστα όπου θα καταχωρηθούν τα dataframes που περιέχουν την παραγωγή ενέργειας για τον εκάστοτε μήνα από όλα τα έργα που περιέχονται σε αυτό το excel\n",
    "dataframes=[]\n",
    "\n",
    "#Για κάθε μήνα δημιουργείται ξεχωριστό dataframe και εντάσσεται στη κενή λίστα που δημιουργήθηκε από πάνω. Το κάθε dataframe έχει δύο παραπάνω στήλες σε σχέση με το αρχικό:\n",
    "#μία στήλη που περιέχει τη διαφορά ημερών μήνα από την ημέρα ενεργοποίησης, και μία δεύτερη στήλη που κάνει τους απαραίτητους υπολογισμούς με τη χρήση των συντελεστών χωρητικότητας\n",
    "#που έχουν υπολογιστεί από το αρχικό excel\n",
    "for i in Months_days:\n",
    "    dataframes.append(df[(df['month']==Months_days[i][0])].assign(days_offset_from_month=lambda x: Months_days[i][1]-x['day']).assign(\n",
    "        Energy_Produced=lambda x: x['days_offset_from_month']*Months_days[i][2]*x['Installed_Capacity_kW']*24+\n",
    "        x['Installed_Capacity_kW']*equation(Months_days[i][0])*24))\n",
    " \n",
    "#Τα dataframes ενώνονται σε ένα εννιαίο\n",
    "df_uni=pd.concat(dataframes)\n",
    "\n",
    "#Τυπώνεται το άθροισμα της παραγώμενης ενέργειας από όλα αυτά τα έργα σε TWh\n",
    "print(\"The energy produced by PV parks that were created during the year of 2023 is {} TWh\".format(df_uni['Energy_Produced'].sum()*10**-9))"
   ]
  },
  {
   "cell_type": "markdown",
   "metadata": {},
   "source": [
    "Τα νούμερα που τυπώνονται, καταχωρούνται στο excel που περιέχει τα έργα που έχουν ενεργοποιηθεί πριν το 2023 και η επεξεργασία συνεχίζεται σε αυτό το excel."
   ]
  }
 ],
 "metadata": {
  "kernelspec": {
   "display_name": "Python 3",
   "language": "python",
   "name": "python3"
  },
  "language_info": {
   "codemirror_mode": {
    "name": "ipython",
    "version": 3
   },
   "file_extension": ".py",
   "mimetype": "text/x-python",
   "name": "python",
   "nbconvert_exporter": "python",
   "pygments_lexer": "ipython3",
   "version": "3.12.3"
  }
 },
 "nbformat": 4,
 "nbformat_minor": 2
}
