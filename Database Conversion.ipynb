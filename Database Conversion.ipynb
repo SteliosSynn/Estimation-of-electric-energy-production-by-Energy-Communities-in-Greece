{
 "cells": [
  {
   "cell_type": "markdown",
   "metadata": {},
   "source": [
    "Τα δεδομένα για τις αιτήσεις των έργων που υπάγονται στην αρμοδιότητα του ΔΕΔΔΗΕ (χαμηλή και μέση τάση) για μέχρι και τον Δεκέμβρη του 2023 έχουν αποθηκευτεί υπό τη μορφή database.<br>Πρώτα, πρέπει να χωρίσουμε τα δεδομένα των ενεργοποιημένων έργων με βάση την ημερομηνία ενεργοποίησής τους, σε αυτά που ενεργοποιήθηκαν πριν το 2023 και αυτά που ενεργοποιήθηκαν κατά τη διάρκεια του 2023. Το παρακάτω κελί κάνει ακριβώς αυτή τη διαδικασία, μέσω της χρήσης των βιβλιοθηκών pandas και sqlite3."
   ]
  },
  {
   "cell_type": "code",
   "execution_count": null,
   "metadata": {},
   "outputs": [],
   "source": [
    "import pandas as pd\n",
    "import sqlite3\n",
    "\n",
    "#χωρίζοντας τα δεδομένα με τη χρήση sqlite\n",
    "conn=sqlite3.connect('Energy_Communities.db')\n",
    "query1='select \"Index\",strftime(\"%Y\",\"Ημ/νία Ενεργοποίησης\") as year, strftime(\"%m\",\"Ημ/νία Ενεργοποίησης\") as month,strftime(\"%d\",\"Ημ/νία Ενεργοποίησης\") as day, \"Εγκατεστημένη Ισχύς (kW)\" as Installed_Capacity_kW from \"Activated_Projects.db\" where year<\"2023\" order by year;'\n",
    "df1=pd.read_sql(query1,conn)\n",
    "\n",
    "query2='select \"Index\",strftime(\"%Y\",\"Ημ/νία Ενεργοποίησης\") as year, strftime(\"%m\",\"Ημ/νία Ενεργοποίησης\") as month,strftime(\"%d\",\"Ημ/νία Ενεργοποίησης\") as day, \"Εγκατεστημένη Ισχύς (kW)\" as Installed_Capacity_kW from \"Activated_Projects.db\" where year BETWEEN \"2023\" and \"2024\" order by month;'\n",
    "df2=pd.read_sql(query2,conn)\n",
    "\n",
    "#μετατρέποντας τα dataframe σε αρχεία excel\n",
    "df1.to_excel('Before 2023.xlsx',index=False)\n",
    "df2.to_excel('Between 2023 and 2024.xlsx',index=False)\n",
    "\n"
   ]
  },
  {
   "cell_type": "markdown",
   "metadata": {},
   "source": [
    "Αφού έχουν δημιουργηθεί τα δύο υποσύνολα που αφορούν τα ενεργοποιημένα έργα κατά το 2023 και τα έργα πριν το 2023 ενεργειακών κοινοτήτων, μπορεί να ξεκινήσει η διαδικασία υπολογισμού."
   ]
  }
 ],
 "metadata": {
  "kernelspec": {
   "display_name": "Python 3",
   "language": "python",
   "name": "python3"
  },
  "language_info": {
   "name": "python",
   "version": "3.12.3"
  }
 },
 "nbformat": 4,
 "nbformat_minor": 2
}
