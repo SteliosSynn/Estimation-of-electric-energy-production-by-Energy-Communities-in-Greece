{
 "cells": [
  {
   "cell_type": "markdown",
   "metadata": {},
   "source": [
    "Τα δεδομένα για τις αιτήσεις των έργων που υπάγονται στην αρμοδιότητα του ΔΕΔΔΗΕ (χαμηλή και μέση τάση) για μέχρι και τον Δεκέμβρη του 2023 έχουν αποθηκευτεί υπό τη μορφή database.<br>Πρώτα, πρέπει να χωρίσουμε τα δεδομένα των ενεργοποιημένων έργων με βάση την ημερομηνία ενεργοποίησής τους, σε αυτά που ενεργοποιήθηκαν πριν το 2023 και αυτά που ενεργοποιήθηκαν κατά τη διάρκεια του 2023. Το παρακάτω κελί κάνει ακριβώς αυτή τη διαδικασία, μέσω της χρήσης των βιβλιοθηκών pandas και sqlite3."
   ]
  },
  {
   "cell_type": "code",
   "execution_count": null,
   "metadata": {},
   "outputs": [
    {
     "ename": "DatabaseError",
     "evalue": "Execution failed on sql 'select \"Index\",strftime(\"%Y\",\"Ημ/νία Ενεργοποίησης\") as year, strftime(\"%m\",\"Ημ/νία Ενεργοποίησης\") as month,strftime(\"%d\",\"Ημ/νία Ενεργοποίησης\") as day, \"Εγκατεστημένη Ισχύς (kW)\" as Installed_Capacity_kW from \"Activated_Projects.db\" where year<\"2023\" order by year;': no such table: Activated_Projects.db",
     "output_type": "error",
     "traceback": [
      "\u001b[31m---------------------------------------------------------------------------\u001b[39m",
      "\u001b[31mOperationalError\u001b[39m                          Traceback (most recent call last)",
      "\u001b[36mFile \u001b[39m\u001b[32m~\\AppData\\Roaming\\Python\\Python312\\site-packages\\pandas\\io\\sql.py:2674\u001b[39m, in \u001b[36mSQLiteDatabase.execute\u001b[39m\u001b[34m(self, sql, params)\u001b[39m\n\u001b[32m   2673\u001b[39m \u001b[38;5;28;01mtry\u001b[39;00m:\n\u001b[32m-> \u001b[39m\u001b[32m2674\u001b[39m     \u001b[43mcur\u001b[49m\u001b[43m.\u001b[49m\u001b[43mexecute\u001b[49m\u001b[43m(\u001b[49m\u001b[43msql\u001b[49m\u001b[43m,\u001b[49m\u001b[43m \u001b[49m\u001b[43m*\u001b[49m\u001b[43margs\u001b[49m\u001b[43m)\u001b[49m\n\u001b[32m   2675\u001b[39m     \u001b[38;5;28;01mreturn\u001b[39;00m cur\n",
      "\u001b[31mOperationalError\u001b[39m: no such table: Activated_Projects.db",
      "\nThe above exception was the direct cause of the following exception:\n",
      "\u001b[31mDatabaseError\u001b[39m                             Traceback (most recent call last)",
      "\u001b[36mCell\u001b[39m\u001b[36m \u001b[39m\u001b[32mIn[1]\u001b[39m\u001b[32m, line 7\u001b[39m\n\u001b[32m      5\u001b[39m conn=sqlite3.connect(\u001b[33m'\u001b[39m\u001b[33mEnergy_Communities.db\u001b[39m\u001b[33m'\u001b[39m)\n\u001b[32m      6\u001b[39m query1=\u001b[33m'\u001b[39m\u001b[33mselect \u001b[39m\u001b[33m\"\u001b[39m\u001b[33mIndex\u001b[39m\u001b[33m\"\u001b[39m\u001b[33m,strftime(\u001b[39m\u001b[33m\"\u001b[39m\u001b[33m%\u001b[39m\u001b[33mY\u001b[39m\u001b[33m\"\u001b[39m\u001b[33m,\u001b[39m\u001b[33m\"\u001b[39m\u001b[33mΗμ/νία Ενεργοποίησης\u001b[39m\u001b[33m\"\u001b[39m\u001b[33m) as year, strftime(\u001b[39m\u001b[33m\"\u001b[39m\u001b[33m%\u001b[39m\u001b[33mm\u001b[39m\u001b[33m\"\u001b[39m\u001b[33m,\u001b[39m\u001b[33m\"\u001b[39m\u001b[33mΗμ/νία Ενεργοποίησης\u001b[39m\u001b[33m\"\u001b[39m\u001b[33m) as month,strftime(\u001b[39m\u001b[33m\"\u001b[39m\u001b[38;5;132;01m%d\u001b[39;00m\u001b[33m\"\u001b[39m\u001b[33m,\u001b[39m\u001b[33m\"\u001b[39m\u001b[33mΗμ/νία Ενεργοποίησης\u001b[39m\u001b[33m\"\u001b[39m\u001b[33m) as day, \u001b[39m\u001b[33m\"\u001b[39m\u001b[33mΕγκατεστημένη Ισχύς (kW)\u001b[39m\u001b[33m\"\u001b[39m\u001b[33m as Installed_Capacity_kW from \u001b[39m\u001b[33m\"\u001b[39m\u001b[33mActivated_Projects.db\u001b[39m\u001b[33m\"\u001b[39m\u001b[33m where year<\u001b[39m\u001b[33m\"\u001b[39m\u001b[33m2023\u001b[39m\u001b[33m\"\u001b[39m\u001b[33m order by year;\u001b[39m\u001b[33m'\u001b[39m\n\u001b[32m----> \u001b[39m\u001b[32m7\u001b[39m df1=\u001b[43mpd\u001b[49m\u001b[43m.\u001b[49m\u001b[43mread_sql\u001b[49m\u001b[43m(\u001b[49m\u001b[43mquery1\u001b[49m\u001b[43m,\u001b[49m\u001b[43mconn\u001b[49m\u001b[43m)\u001b[49m\n\u001b[32m      9\u001b[39m query2=\u001b[33m'\u001b[39m\u001b[33mselect \u001b[39m\u001b[33m\"\u001b[39m\u001b[33mIndex\u001b[39m\u001b[33m\"\u001b[39m\u001b[33m,strftime(\u001b[39m\u001b[33m\"\u001b[39m\u001b[33m%\u001b[39m\u001b[33mY\u001b[39m\u001b[33m\"\u001b[39m\u001b[33m,\u001b[39m\u001b[33m\"\u001b[39m\u001b[33mΗμ/νία Ενεργοποίησης\u001b[39m\u001b[33m\"\u001b[39m\u001b[33m) as year, strftime(\u001b[39m\u001b[33m\"\u001b[39m\u001b[33m%\u001b[39m\u001b[33mm\u001b[39m\u001b[33m\"\u001b[39m\u001b[33m,\u001b[39m\u001b[33m\"\u001b[39m\u001b[33mΗμ/νία Ενεργοποίησης\u001b[39m\u001b[33m\"\u001b[39m\u001b[33m) as month,strftime(\u001b[39m\u001b[33m\"\u001b[39m\u001b[38;5;132;01m%d\u001b[39;00m\u001b[33m\"\u001b[39m\u001b[33m,\u001b[39m\u001b[33m\"\u001b[39m\u001b[33mΗμ/νία Ενεργοποίησης\u001b[39m\u001b[33m\"\u001b[39m\u001b[33m) as day, \u001b[39m\u001b[33m\"\u001b[39m\u001b[33mΕγκατεστημένη Ισχύς (kW)\u001b[39m\u001b[33m\"\u001b[39m\u001b[33m as Installed_Capacity_kW from \u001b[39m\u001b[33m\"\u001b[39m\u001b[33mActivated_Projects.db\u001b[39m\u001b[33m\"\u001b[39m\u001b[33m where year BETWEEN \u001b[39m\u001b[33m\"\u001b[39m\u001b[33m2023\u001b[39m\u001b[33m\"\u001b[39m\u001b[33m and \u001b[39m\u001b[33m\"\u001b[39m\u001b[33m2024\u001b[39m\u001b[33m\"\u001b[39m\u001b[33m order by month;\u001b[39m\u001b[33m'\u001b[39m\n\u001b[32m     10\u001b[39m df2=pd.read_sql(query2,conn)\n",
      "\u001b[36mFile \u001b[39m\u001b[32m~\\AppData\\Roaming\\Python\\Python312\\site-packages\\pandas\\io\\sql.py:706\u001b[39m, in \u001b[36mread_sql\u001b[39m\u001b[34m(sql, con, index_col, coerce_float, params, parse_dates, columns, chunksize, dtype_backend, dtype)\u001b[39m\n\u001b[32m    704\u001b[39m \u001b[38;5;28;01mwith\u001b[39;00m pandasSQL_builder(con) \u001b[38;5;28;01mas\u001b[39;00m pandas_sql:\n\u001b[32m    705\u001b[39m     \u001b[38;5;28;01mif\u001b[39;00m \u001b[38;5;28misinstance\u001b[39m(pandas_sql, SQLiteDatabase):\n\u001b[32m--> \u001b[39m\u001b[32m706\u001b[39m         \u001b[38;5;28;01mreturn\u001b[39;00m \u001b[43mpandas_sql\u001b[49m\u001b[43m.\u001b[49m\u001b[43mread_query\u001b[49m\u001b[43m(\u001b[49m\n\u001b[32m    707\u001b[39m \u001b[43m            \u001b[49m\u001b[43msql\u001b[49m\u001b[43m,\u001b[49m\n\u001b[32m    708\u001b[39m \u001b[43m            \u001b[49m\u001b[43mindex_col\u001b[49m\u001b[43m=\u001b[49m\u001b[43mindex_col\u001b[49m\u001b[43m,\u001b[49m\n\u001b[32m    709\u001b[39m \u001b[43m            \u001b[49m\u001b[43mparams\u001b[49m\u001b[43m=\u001b[49m\u001b[43mparams\u001b[49m\u001b[43m,\u001b[49m\n\u001b[32m    710\u001b[39m \u001b[43m            \u001b[49m\u001b[43mcoerce_float\u001b[49m\u001b[43m=\u001b[49m\u001b[43mcoerce_float\u001b[49m\u001b[43m,\u001b[49m\n\u001b[32m    711\u001b[39m \u001b[43m            \u001b[49m\u001b[43mparse_dates\u001b[49m\u001b[43m=\u001b[49m\u001b[43mparse_dates\u001b[49m\u001b[43m,\u001b[49m\n\u001b[32m    712\u001b[39m \u001b[43m            \u001b[49m\u001b[43mchunksize\u001b[49m\u001b[43m=\u001b[49m\u001b[43mchunksize\u001b[49m\u001b[43m,\u001b[49m\n\u001b[32m    713\u001b[39m \u001b[43m            \u001b[49m\u001b[43mdtype_backend\u001b[49m\u001b[43m=\u001b[49m\u001b[43mdtype_backend\u001b[49m\u001b[43m,\u001b[49m\n\u001b[32m    714\u001b[39m \u001b[43m            \u001b[49m\u001b[43mdtype\u001b[49m\u001b[43m=\u001b[49m\u001b[43mdtype\u001b[49m\u001b[43m,\u001b[49m\n\u001b[32m    715\u001b[39m \u001b[43m        \u001b[49m\u001b[43m)\u001b[49m\n\u001b[32m    717\u001b[39m     \u001b[38;5;28;01mtry\u001b[39;00m:\n\u001b[32m    718\u001b[39m         _is_table_name = pandas_sql.has_table(sql)\n",
      "\u001b[36mFile \u001b[39m\u001b[32m~\\AppData\\Roaming\\Python\\Python312\\site-packages\\pandas\\io\\sql.py:2738\u001b[39m, in \u001b[36mSQLiteDatabase.read_query\u001b[39m\u001b[34m(self, sql, index_col, coerce_float, parse_dates, params, chunksize, dtype, dtype_backend)\u001b[39m\n\u001b[32m   2727\u001b[39m \u001b[38;5;28;01mdef\u001b[39;00m\u001b[38;5;250m \u001b[39m\u001b[34mread_query\u001b[39m(\n\u001b[32m   2728\u001b[39m     \u001b[38;5;28mself\u001b[39m,\n\u001b[32m   2729\u001b[39m     sql,\n\u001b[32m   (...)\u001b[39m\u001b[32m   2736\u001b[39m     dtype_backend: DtypeBackend | Literal[\u001b[33m\"\u001b[39m\u001b[33mnumpy\u001b[39m\u001b[33m\"\u001b[39m] = \u001b[33m\"\u001b[39m\u001b[33mnumpy\u001b[39m\u001b[33m\"\u001b[39m,\n\u001b[32m   2737\u001b[39m ) -> DataFrame | Iterator[DataFrame]:\n\u001b[32m-> \u001b[39m\u001b[32m2738\u001b[39m     cursor = \u001b[38;5;28;43mself\u001b[39;49m\u001b[43m.\u001b[49m\u001b[43mexecute\u001b[49m\u001b[43m(\u001b[49m\u001b[43msql\u001b[49m\u001b[43m,\u001b[49m\u001b[43m \u001b[49m\u001b[43mparams\u001b[49m\u001b[43m)\u001b[49m\n\u001b[32m   2739\u001b[39m     columns = [col_desc[\u001b[32m0\u001b[39m] \u001b[38;5;28;01mfor\u001b[39;00m col_desc \u001b[38;5;129;01min\u001b[39;00m cursor.description]\n\u001b[32m   2741\u001b[39m     \u001b[38;5;28;01mif\u001b[39;00m chunksize \u001b[38;5;129;01mis\u001b[39;00m \u001b[38;5;129;01mnot\u001b[39;00m \u001b[38;5;28;01mNone\u001b[39;00m:\n",
      "\u001b[36mFile \u001b[39m\u001b[32m~\\AppData\\Roaming\\Python\\Python312\\site-packages\\pandas\\io\\sql.py:2686\u001b[39m, in \u001b[36mSQLiteDatabase.execute\u001b[39m\u001b[34m(self, sql, params)\u001b[39m\n\u001b[32m   2683\u001b[39m     \u001b[38;5;28;01mraise\u001b[39;00m ex \u001b[38;5;28;01mfrom\u001b[39;00m\u001b[38;5;250m \u001b[39m\u001b[34;01minner_exc\u001b[39;00m\n\u001b[32m   2685\u001b[39m ex = DatabaseError(\u001b[33mf\u001b[39m\u001b[33m\"\u001b[39m\u001b[33mExecution failed on sql \u001b[39m\u001b[33m'\u001b[39m\u001b[38;5;132;01m{\u001b[39;00msql\u001b[38;5;132;01m}\u001b[39;00m\u001b[33m'\u001b[39m\u001b[33m: \u001b[39m\u001b[38;5;132;01m{\u001b[39;00mexc\u001b[38;5;132;01m}\u001b[39;00m\u001b[33m\"\u001b[39m)\n\u001b[32m-> \u001b[39m\u001b[32m2686\u001b[39m \u001b[38;5;28;01mraise\u001b[39;00m ex \u001b[38;5;28;01mfrom\u001b[39;00m\u001b[38;5;250m \u001b[39m\u001b[34;01mexc\u001b[39;00m\n",
      "\u001b[31mDatabaseError\u001b[39m: Execution failed on sql 'select \"Index\",strftime(\"%Y\",\"Ημ/νία Ενεργοποίησης\") as year, strftime(\"%m\",\"Ημ/νία Ενεργοποίησης\") as month,strftime(\"%d\",\"Ημ/νία Ενεργοποίησης\") as day, \"Εγκατεστημένη Ισχύς (kW)\" as Installed_Capacity_kW from \"Activated_Projects.db\" where year<\"2023\" order by year;': no such table: Activated_Projects.db"
     ]
    }
   ],
   "source": [
    "import pandas as pd\n",
    "import sqlite3\n",
    "\n",
    "#χωρίζοντας τα δεδομένα με τη χρήση sqlite\n",
    "conn=sqlite3.connect('Energy_Communities.db')\n",
    "query1='select \"Index\",strftime(\"%Y\",\"Ημ/νία Ενεργοποίησης\") as year, strftime(\"%m\",\"Ημ/νία Ενεργοποίησης\") as month,strftime(\"%d\",\"Ημ/νία Ενεργοποίησης\") as day, \"Εγκατεστημένη Ισχύς (kW)\" as Installed_Capacity_kW from Activated_Projects where year<\"2023\" order by year;'\n",
    "df1=pd.read_sql(query1,conn)\n",
    "\n",
    "query2='select \"Index\",strftime(\"%Y\",\"Ημ/νία Ενεργοποίησης\") as year, strftime(\"%m\",\"Ημ/νία Ενεργοποίησης\") as month,strftime(\"%d\",\"Ημ/νία Ενεργοποίησης\") as day, \"Εγκατεστημένη Ισχύς (kW)\" as Installed_Capacity_kW from Activated_Projects where year BETWEEN \"2023\" and \"2024\" order by month;'\n",
    "df2=pd.read_sql(query2,conn)\n",
    "\n",
    "#μετατρέποντας τα dataframe σε αρχεία excel\n",
    "df1.to_excel('Before 2023.xlsx',index=False)\n",
    "df2.to_excel('Between 2023 and 2024.xlsx',index=False)\n",
    "\n"
   ]
  },
  {
   "cell_type": "markdown",
   "metadata": {},
   "source": [
    "Αφού έχουν δημιουργηθεί τα δύο υποσύνολα που αφορούν τα ενεργοποιημένα έργα κατά το 2023 και τα έργα πριν το 2023 ενεργειακών κοινοτήτων, μπορεί να ξεκινήσει η διαδικασία υπολογισμών."
   ]
  }
 ],
 "metadata": {
  "kernelspec": {
   "display_name": "Python 3",
   "language": "python",
   "name": "python3"
  },
  "language_info": {
   "codemirror_mode": {
    "name": "ipython",
    "version": 3
   },
   "file_extension": ".py",
   "mimetype": "text/x-python",
   "name": "python",
   "nbconvert_exporter": "python",
   "pygments_lexer": "ipython3",
   "version": "3.12.3"
  }
 },
 "nbformat": 4,
 "nbformat_minor": 2
}
